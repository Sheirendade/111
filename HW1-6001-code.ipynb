{
  "nbformat": 4,
  "nbformat_minor": 0,
  "metadata": {
    "colab": {
      "name": "Untitled0.ipynb",
      "provenance": [],
      "collapsed_sections": []
    },
    "kernelspec": {
      "name": "python3",
      "display_name": "Python 3"
    },
    "language_info": {
      "name": "python"
    }
  },
  "cells": [
    {
      "cell_type": "code",
      "execution_count": 1,
      "metadata": {
        "id": "qFRO4gu46E1s"
      },
      "outputs": [],
      "source": [
        "import numpy as np\n",
        "import pandas as pd\n",
        "import seaborn as sns\n",
        "from matplotlib import pyplot as plt\n",
        "\n",
        "import os"
      ]
    },
    {
      "cell_type": "markdown",
      "source": [
        "# feature engineering"
      ],
      "metadata": {
        "id": "u6oXaRoVQCF9"
      }
    },
    {
      "cell_type": "code",
      "source": [
        "def read_file(path):\n",
        "    file = open(path)\n",
        "    val_list = file.readlines()\n",
        "    lists =[]\n",
        "    for string in val_list:\n",
        "       string = string.split()\n",
        "       lists.append(string)\n",
        "    data=pd.DataFrame(lists)\n",
        "    data.columns = ['Date','Value']\n",
        "    return data"
      ],
      "metadata": {
        "id": "m9iEWq4j6lsa"
      },
      "execution_count": 2,
      "outputs": []
    },
    {
      "cell_type": "code",
      "source": [
        "file_1 = './nikkei_daily.txt'  # The relative path of the file"
      ],
      "metadata": {
        "id": "cX1x2aA37Ft2"
      },
      "execution_count": 3,
      "outputs": []
    },
    {
      "cell_type": "code",
      "source": [
        "df1=read_file(file_1)\n",
        "df1=df1.drop(labels=[0,7084],axis=0)\n",
        "df1=df1.reset_index(drop=True) \n",
        "df1[\"Date\"] = pd.to_datetime(df1[\"Date\"])"
      ],
      "metadata": {
        "id": "auB5lU_a7Juv"
      },
      "execution_count": 4,
      "outputs": []
    },
    {
      "cell_type": "code",
      "source": [
        "g = pd.DataFrame(columns=['g'], dtype=int)\n",
        "df1 = pd.concat([df1, g], axis=1)"
      ],
      "metadata": {
        "id": "qa3SpZMN8G6m"
      },
      "execution_count": 5,
      "outputs": []
    },
    {
      "cell_type": "code",
      "source": [
        "for i in range(1,df1.shape[0]):\n",
        "  if df1.iloc[i].Value>=df1.iloc[i-1].Value:\n",
        "    df1.loc[i,'g']=1\n",
        "  else:\n",
        "    df1.loc[i,'g']=-1"
      ],
      "metadata": {
        "id": "4J47DmVU96tk"
      },
      "execution_count": 6,
      "outputs": []
    },
    {
      "cell_type": "code",
      "source": [
        "df1=df1[df1.Date <= \"2007-12-31\"]\n",
        "df1=df1[df1.Date >= \"2005-01-03\"]\n",
        "df1=df1.reset_index(drop=True)\n",
        "df1"
      ],
      "metadata": {
        "colab": {
          "base_uri": "https://localhost:8080/",
          "height": 423
        },
        "id": "XXA0QAOo_VIZ",
        "outputId": "708f62f7-867a-4463-af25-2825a40b8d0a"
      },
      "execution_count": 7,
      "outputs": [
        {
          "output_type": "execute_result",
          "data": {
            "text/html": [
              "\n",
              "  <div id=\"df-8fa49923-0b73-4675-9b05-b5a8aa3a7616\">\n",
              "    <div class=\"colab-df-container\">\n",
              "      <div>\n",
              "<style scoped>\n",
              "    .dataframe tbody tr th:only-of-type {\n",
              "        vertical-align: middle;\n",
              "    }\n",
              "\n",
              "    .dataframe tbody tr th {\n",
              "        vertical-align: top;\n",
              "    }\n",
              "\n",
              "    .dataframe thead th {\n",
              "        text-align: right;\n",
              "    }\n",
              "</style>\n",
              "<table border=\"1\" class=\"dataframe\">\n",
              "  <thead>\n",
              "    <tr style=\"text-align: right;\">\n",
              "      <th></th>\n",
              "      <th>Date</th>\n",
              "      <th>Value</th>\n",
              "      <th>g</th>\n",
              "    </tr>\n",
              "  </thead>\n",
              "  <tbody>\n",
              "    <tr>\n",
              "      <th>0</th>\n",
              "      <td>2005-01-04</td>\n",
              "      <td>11517.75</td>\n",
              "      <td>1.0</td>\n",
              "    </tr>\n",
              "    <tr>\n",
              "      <th>1</th>\n",
              "      <td>2005-01-05</td>\n",
              "      <td>11437.52</td>\n",
              "      <td>-1.0</td>\n",
              "    </tr>\n",
              "    <tr>\n",
              "      <th>2</th>\n",
              "      <td>2005-01-06</td>\n",
              "      <td>11492.26</td>\n",
              "      <td>1.0</td>\n",
              "    </tr>\n",
              "    <tr>\n",
              "      <th>3</th>\n",
              "      <td>2005-01-07</td>\n",
              "      <td>11433.24</td>\n",
              "      <td>-1.0</td>\n",
              "    </tr>\n",
              "    <tr>\n",
              "      <th>4</th>\n",
              "      <td>2005-01-11</td>\n",
              "      <td>11539.99</td>\n",
              "      <td>1.0</td>\n",
              "    </tr>\n",
              "    <tr>\n",
              "      <th>...</th>\n",
              "      <td>...</td>\n",
              "      <td>...</td>\n",
              "      <td>...</td>\n",
              "    </tr>\n",
              "    <tr>\n",
              "      <th>733</th>\n",
              "      <td>2007-12-21</td>\n",
              "      <td>15257</td>\n",
              "      <td>1.0</td>\n",
              "    </tr>\n",
              "    <tr>\n",
              "      <th>734</th>\n",
              "      <td>2007-12-25</td>\n",
              "      <td>15552.59</td>\n",
              "      <td>1.0</td>\n",
              "    </tr>\n",
              "    <tr>\n",
              "      <th>735</th>\n",
              "      <td>2007-12-26</td>\n",
              "      <td>15653.54</td>\n",
              "      <td>1.0</td>\n",
              "    </tr>\n",
              "    <tr>\n",
              "      <th>736</th>\n",
              "      <td>2007-12-27</td>\n",
              "      <td>15564.69</td>\n",
              "      <td>-1.0</td>\n",
              "    </tr>\n",
              "    <tr>\n",
              "      <th>737</th>\n",
              "      <td>2007-12-28</td>\n",
              "      <td>15307.78</td>\n",
              "      <td>-1.0</td>\n",
              "    </tr>\n",
              "  </tbody>\n",
              "</table>\n",
              "<p>738 rows × 3 columns</p>\n",
              "</div>\n",
              "      <button class=\"colab-df-convert\" onclick=\"convertToInteractive('df-8fa49923-0b73-4675-9b05-b5a8aa3a7616')\"\n",
              "              title=\"Convert this dataframe to an interactive table.\"\n",
              "              style=\"display:none;\">\n",
              "        \n",
              "  <svg xmlns=\"http://www.w3.org/2000/svg\" height=\"24px\"viewBox=\"0 0 24 24\"\n",
              "       width=\"24px\">\n",
              "    <path d=\"M0 0h24v24H0V0z\" fill=\"none\"/>\n",
              "    <path d=\"M18.56 5.44l.94 2.06.94-2.06 2.06-.94-2.06-.94-.94-2.06-.94 2.06-2.06.94zm-11 1L8.5 8.5l.94-2.06 2.06-.94-2.06-.94L8.5 2.5l-.94 2.06-2.06.94zm10 10l.94 2.06.94-2.06 2.06-.94-2.06-.94-.94-2.06-.94 2.06-2.06.94z\"/><path d=\"M17.41 7.96l-1.37-1.37c-.4-.4-.92-.59-1.43-.59-.52 0-1.04.2-1.43.59L10.3 9.45l-7.72 7.72c-.78.78-.78 2.05 0 2.83L4 21.41c.39.39.9.59 1.41.59.51 0 1.02-.2 1.41-.59l7.78-7.78 2.81-2.81c.8-.78.8-2.07 0-2.86zM5.41 20L4 18.59l7.72-7.72 1.47 1.35L5.41 20z\"/>\n",
              "  </svg>\n",
              "      </button>\n",
              "      \n",
              "  <style>\n",
              "    .colab-df-container {\n",
              "      display:flex;\n",
              "      flex-wrap:wrap;\n",
              "      gap: 12px;\n",
              "    }\n",
              "\n",
              "    .colab-df-convert {\n",
              "      background-color: #E8F0FE;\n",
              "      border: none;\n",
              "      border-radius: 50%;\n",
              "      cursor: pointer;\n",
              "      display: none;\n",
              "      fill: #1967D2;\n",
              "      height: 32px;\n",
              "      padding: 0 0 0 0;\n",
              "      width: 32px;\n",
              "    }\n",
              "\n",
              "    .colab-df-convert:hover {\n",
              "      background-color: #E2EBFA;\n",
              "      box-shadow: 0px 1px 2px rgba(60, 64, 67, 0.3), 0px 1px 3px 1px rgba(60, 64, 67, 0.15);\n",
              "      fill: #174EA6;\n",
              "    }\n",
              "\n",
              "    [theme=dark] .colab-df-convert {\n",
              "      background-color: #3B4455;\n",
              "      fill: #D2E3FC;\n",
              "    }\n",
              "\n",
              "    [theme=dark] .colab-df-convert:hover {\n",
              "      background-color: #434B5C;\n",
              "      box-shadow: 0px 1px 3px 1px rgba(0, 0, 0, 0.15);\n",
              "      filter: drop-shadow(0px 1px 2px rgba(0, 0, 0, 0.3));\n",
              "      fill: #FFFFFF;\n",
              "    }\n",
              "  </style>\n",
              "\n",
              "      <script>\n",
              "        const buttonEl =\n",
              "          document.querySelector('#df-8fa49923-0b73-4675-9b05-b5a8aa3a7616 button.colab-df-convert');\n",
              "        buttonEl.style.display =\n",
              "          google.colab.kernel.accessAllowed ? 'block' : 'none';\n",
              "\n",
              "        async function convertToInteractive(key) {\n",
              "          const element = document.querySelector('#df-8fa49923-0b73-4675-9b05-b5a8aa3a7616');\n",
              "          const dataTable =\n",
              "            await google.colab.kernel.invokeFunction('convertToInteractive',\n",
              "                                                     [key], {});\n",
              "          if (!dataTable) return;\n",
              "\n",
              "          const docLinkHtml = 'Like what you see? Visit the ' +\n",
              "            '<a target=\"_blank\" href=https://colab.research.google.com/notebooks/data_table.ipynb>data table notebook</a>'\n",
              "            + ' to learn more about interactive tables.';\n",
              "          element.innerHTML = '';\n",
              "          dataTable['output_type'] = 'display_data';\n",
              "          await google.colab.output.renderOutput(dataTable, element);\n",
              "          const docLink = document.createElement('div');\n",
              "          docLink.innerHTML = docLinkHtml;\n",
              "          element.appendChild(docLink);\n",
              "        }\n",
              "      </script>\n",
              "    </div>\n",
              "  </div>\n",
              "  "
            ],
            "text/plain": [
              "          Date     Value    g\n",
              "0   2005-01-04  11517.75  1.0\n",
              "1   2005-01-05  11437.52 -1.0\n",
              "2   2005-01-06  11492.26  1.0\n",
              "3   2005-01-07  11433.24 -1.0\n",
              "4   2005-01-11  11539.99  1.0\n",
              "..         ...       ...  ...\n",
              "733 2007-12-21     15257  1.0\n",
              "734 2007-12-25  15552.59  1.0\n",
              "735 2007-12-26  15653.54  1.0\n",
              "736 2007-12-27  15564.69 -1.0\n",
              "737 2007-12-28  15307.78 -1.0\n",
              "\n",
              "[738 rows x 3 columns]"
            ]
          },
          "metadata": {},
          "execution_count": 7
        }
      ]
    },
    {
      "cell_type": "code",
      "source": [
        "file_2 = './sp_daily.txt'"
      ],
      "metadata": {
        "id": "90BjB-x5D48G"
      },
      "execution_count": 8,
      "outputs": []
    },
    {
      "cell_type": "code",
      "source": [
        "df2=read_file(file_2)\n",
        "df2=df2.drop(labels=0,axis=0)\n",
        "df2=df2.reset_index(drop=True) \n",
        "df2[\"Date\"] = pd.to_datetime(df2[\"Date\"])\n",
        "df2"
      ],
      "metadata": {
        "colab": {
          "base_uri": "https://localhost:8080/",
          "height": 423
        },
        "id": "eX5lsuKUEJbV",
        "outputId": "016d7de6-8b7b-430a-fb0e-5f9beabf0e2a"
      },
      "execution_count": 9,
      "outputs": [
        {
          "output_type": "execute_result",
          "data": {
            "text/html": [
              "\n",
              "  <div id=\"df-07c37064-3b92-4320-9708-11c78fcc7299\">\n",
              "    <div class=\"colab-df-container\">\n",
              "      <div>\n",
              "<style scoped>\n",
              "    .dataframe tbody tr th:only-of-type {\n",
              "        vertical-align: middle;\n",
              "    }\n",
              "\n",
              "    .dataframe tbody tr th {\n",
              "        vertical-align: top;\n",
              "    }\n",
              "\n",
              "    .dataframe thead th {\n",
              "        text-align: right;\n",
              "    }\n",
              "</style>\n",
              "<table border=\"1\" class=\"dataframe\">\n",
              "  <thead>\n",
              "    <tr style=\"text-align: right;\">\n",
              "      <th></th>\n",
              "      <th>Date</th>\n",
              "      <th>Value</th>\n",
              "    </tr>\n",
              "  </thead>\n",
              "  <tbody>\n",
              "    <tr>\n",
              "      <th>0</th>\n",
              "      <td>2001-01-02</td>\n",
              "      <td>-0.028032</td>\n",
              "    </tr>\n",
              "    <tr>\n",
              "      <th>1</th>\n",
              "      <td>2001-01-03</td>\n",
              "      <td>0.050099</td>\n",
              "    </tr>\n",
              "    <tr>\n",
              "      <th>2</th>\n",
              "      <td>2001-01-04</td>\n",
              "      <td>-0.010552</td>\n",
              "    </tr>\n",
              "    <tr>\n",
              "      <th>3</th>\n",
              "      <td>2001-01-05</td>\n",
              "      <td>-0.026242</td>\n",
              "    </tr>\n",
              "    <tr>\n",
              "      <th>4</th>\n",
              "      <td>2001-01-08</td>\n",
              "      <td>-0.001918</td>\n",
              "    </tr>\n",
              "    <tr>\n",
              "      <th>...</th>\n",
              "      <td>...</td>\n",
              "      <td>...</td>\n",
              "    </tr>\n",
              "    <tr>\n",
              "      <th>3264</th>\n",
              "      <td>2013-12-24</td>\n",
              "      <td>0.002916</td>\n",
              "    </tr>\n",
              "    <tr>\n",
              "      <th>3265</th>\n",
              "      <td>2013-12-26</td>\n",
              "      <td>0.004745</td>\n",
              "    </tr>\n",
              "    <tr>\n",
              "      <th>3266</th>\n",
              "      <td>2013-12-27</td>\n",
              "      <td>-0.000337</td>\n",
              "    </tr>\n",
              "    <tr>\n",
              "      <th>3267</th>\n",
              "      <td>2013-12-30</td>\n",
              "      <td>-0.000179</td>\n",
              "    </tr>\n",
              "    <tr>\n",
              "      <th>3268</th>\n",
              "      <td>2013-12-31</td>\n",
              "      <td>0.003960</td>\n",
              "    </tr>\n",
              "  </tbody>\n",
              "</table>\n",
              "<p>3269 rows × 2 columns</p>\n",
              "</div>\n",
              "      <button class=\"colab-df-convert\" onclick=\"convertToInteractive('df-07c37064-3b92-4320-9708-11c78fcc7299')\"\n",
              "              title=\"Convert this dataframe to an interactive table.\"\n",
              "              style=\"display:none;\">\n",
              "        \n",
              "  <svg xmlns=\"http://www.w3.org/2000/svg\" height=\"24px\"viewBox=\"0 0 24 24\"\n",
              "       width=\"24px\">\n",
              "    <path d=\"M0 0h24v24H0V0z\" fill=\"none\"/>\n",
              "    <path d=\"M18.56 5.44l.94 2.06.94-2.06 2.06-.94-2.06-.94-.94-2.06-.94 2.06-2.06.94zm-11 1L8.5 8.5l.94-2.06 2.06-.94-2.06-.94L8.5 2.5l-.94 2.06-2.06.94zm10 10l.94 2.06.94-2.06 2.06-.94-2.06-.94-.94-2.06-.94 2.06-2.06.94z\"/><path d=\"M17.41 7.96l-1.37-1.37c-.4-.4-.92-.59-1.43-.59-.52 0-1.04.2-1.43.59L10.3 9.45l-7.72 7.72c-.78.78-.78 2.05 0 2.83L4 21.41c.39.39.9.59 1.41.59.51 0 1.02-.2 1.41-.59l7.78-7.78 2.81-2.81c.8-.78.8-2.07 0-2.86zM5.41 20L4 18.59l7.72-7.72 1.47 1.35L5.41 20z\"/>\n",
              "  </svg>\n",
              "      </button>\n",
              "      \n",
              "  <style>\n",
              "    .colab-df-container {\n",
              "      display:flex;\n",
              "      flex-wrap:wrap;\n",
              "      gap: 12px;\n",
              "    }\n",
              "\n",
              "    .colab-df-convert {\n",
              "      background-color: #E8F0FE;\n",
              "      border: none;\n",
              "      border-radius: 50%;\n",
              "      cursor: pointer;\n",
              "      display: none;\n",
              "      fill: #1967D2;\n",
              "      height: 32px;\n",
              "      padding: 0 0 0 0;\n",
              "      width: 32px;\n",
              "    }\n",
              "\n",
              "    .colab-df-convert:hover {\n",
              "      background-color: #E2EBFA;\n",
              "      box-shadow: 0px 1px 2px rgba(60, 64, 67, 0.3), 0px 1px 3px 1px rgba(60, 64, 67, 0.15);\n",
              "      fill: #174EA6;\n",
              "    }\n",
              "\n",
              "    [theme=dark] .colab-df-convert {\n",
              "      background-color: #3B4455;\n",
              "      fill: #D2E3FC;\n",
              "    }\n",
              "\n",
              "    [theme=dark] .colab-df-convert:hover {\n",
              "      background-color: #434B5C;\n",
              "      box-shadow: 0px 1px 3px 1px rgba(0, 0, 0, 0.15);\n",
              "      filter: drop-shadow(0px 1px 2px rgba(0, 0, 0, 0.3));\n",
              "      fill: #FFFFFF;\n",
              "    }\n",
              "  </style>\n",
              "\n",
              "      <script>\n",
              "        const buttonEl =\n",
              "          document.querySelector('#df-07c37064-3b92-4320-9708-11c78fcc7299 button.colab-df-convert');\n",
              "        buttonEl.style.display =\n",
              "          google.colab.kernel.accessAllowed ? 'block' : 'none';\n",
              "\n",
              "        async function convertToInteractive(key) {\n",
              "          const element = document.querySelector('#df-07c37064-3b92-4320-9708-11c78fcc7299');\n",
              "          const dataTable =\n",
              "            await google.colab.kernel.invokeFunction('convertToInteractive',\n",
              "                                                     [key], {});\n",
              "          if (!dataTable) return;\n",
              "\n",
              "          const docLinkHtml = 'Like what you see? Visit the ' +\n",
              "            '<a target=\"_blank\" href=https://colab.research.google.com/notebooks/data_table.ipynb>data table notebook</a>'\n",
              "            + ' to learn more about interactive tables.';\n",
              "          element.innerHTML = '';\n",
              "          dataTable['output_type'] = 'display_data';\n",
              "          await google.colab.output.renderOutput(dataTable, element);\n",
              "          const docLink = document.createElement('div');\n",
              "          docLink.innerHTML = docLinkHtml;\n",
              "          element.appendChild(docLink);\n",
              "        }\n",
              "      </script>\n",
              "    </div>\n",
              "  </div>\n",
              "  "
            ],
            "text/plain": [
              "           Date      Value\n",
              "0    2001-01-02  -0.028032\n",
              "1    2001-01-03   0.050099\n",
              "2    2001-01-04  -0.010552\n",
              "3    2001-01-05  -0.026242\n",
              "4    2001-01-08  -0.001918\n",
              "...         ...        ...\n",
              "3264 2013-12-24   0.002916\n",
              "3265 2013-12-26   0.004745\n",
              "3266 2013-12-27  -0.000337\n",
              "3267 2013-12-30  -0.000179\n",
              "3268 2013-12-31   0.003960\n",
              "\n",
              "[3269 rows x 2 columns]"
            ]
          },
          "metadata": {},
          "execution_count": 9
        }
      ]
    },
    {
      "cell_type": "code",
      "source": [
        "x1 = pd.DataFrame(columns=['x1'], dtype=float)\n",
        "df1 = pd.concat([df1, x1], axis=1)"
      ],
      "metadata": {
        "id": "dORLnMqBFKYv"
      },
      "execution_count": 10,
      "outputs": []
    },
    {
      "cell_type": "code",
      "source": [
        "j=0\n",
        "for i in df1[\"Date\"]:\n",
        "  df1[\"x1\"][j]=df2[df2.Date==i][\"Value\"]\n",
        "  j+=1"
      ],
      "metadata": {
        "id": "CSpMNkreGYCn"
      },
      "execution_count": null,
      "outputs": []
    },
    {
      "cell_type": "code",
      "source": [
        "df1"
      ],
      "metadata": {
        "colab": {
          "base_uri": "https://localhost:8080/",
          "height": 423
        },
        "id": "1q3ctfOqFqeF",
        "outputId": "e7e77b8f-d2f8-4f3b-ace7-68b938c54247"
      },
      "execution_count": 12,
      "outputs": [
        {
          "output_type": "execute_result",
          "data": {
            "text/html": [
              "\n",
              "  <div id=\"df-3498f520-6ffc-4452-8880-164c4edcc5ff\">\n",
              "    <div class=\"colab-df-container\">\n",
              "      <div>\n",
              "<style scoped>\n",
              "    .dataframe tbody tr th:only-of-type {\n",
              "        vertical-align: middle;\n",
              "    }\n",
              "\n",
              "    .dataframe tbody tr th {\n",
              "        vertical-align: top;\n",
              "    }\n",
              "\n",
              "    .dataframe thead th {\n",
              "        text-align: right;\n",
              "    }\n",
              "</style>\n",
              "<table border=\"1\" class=\"dataframe\">\n",
              "  <thead>\n",
              "    <tr style=\"text-align: right;\">\n",
              "      <th></th>\n",
              "      <th>Date</th>\n",
              "      <th>Value</th>\n",
              "      <th>g</th>\n",
              "      <th>x1</th>\n",
              "    </tr>\n",
              "  </thead>\n",
              "  <tbody>\n",
              "    <tr>\n",
              "      <th>0</th>\n",
              "      <td>2005-01-04</td>\n",
              "      <td>11517.75</td>\n",
              "      <td>1.0</td>\n",
              "      <td>-0.011671</td>\n",
              "    </tr>\n",
              "    <tr>\n",
              "      <th>1</th>\n",
              "      <td>2005-01-05</td>\n",
              "      <td>11437.52</td>\n",
              "      <td>-1.0</td>\n",
              "      <td>-0.003628</td>\n",
              "    </tr>\n",
              "    <tr>\n",
              "      <th>2</th>\n",
              "      <td>2005-01-06</td>\n",
              "      <td>11492.26</td>\n",
              "      <td>1.0</td>\n",
              "      <td>0.003506</td>\n",
              "    </tr>\n",
              "    <tr>\n",
              "      <th>3</th>\n",
              "      <td>2005-01-07</td>\n",
              "      <td>11433.24</td>\n",
              "      <td>-1.0</td>\n",
              "      <td>-0.001431</td>\n",
              "    </tr>\n",
              "    <tr>\n",
              "      <th>4</th>\n",
              "      <td>2005-01-11</td>\n",
              "      <td>11539.99</td>\n",
              "      <td>1.0</td>\n",
              "      <td>-0.006100</td>\n",
              "    </tr>\n",
              "    <tr>\n",
              "      <th>...</th>\n",
              "      <td>...</td>\n",
              "      <td>...</td>\n",
              "      <td>...</td>\n",
              "      <td>...</td>\n",
              "    </tr>\n",
              "    <tr>\n",
              "      <th>733</th>\n",
              "      <td>2007-12-21</td>\n",
              "      <td>15257</td>\n",
              "      <td>1.0</td>\n",
              "      <td>0.016670</td>\n",
              "    </tr>\n",
              "    <tr>\n",
              "      <th>734</th>\n",
              "      <td>2007-12-25</td>\n",
              "      <td>15552.59</td>\n",
              "      <td>1.0</td>\n",
              "      <td>NaN</td>\n",
              "    </tr>\n",
              "    <tr>\n",
              "      <th>735</th>\n",
              "      <td>2007-12-26</td>\n",
              "      <td>15653.54</td>\n",
              "      <td>1.0</td>\n",
              "      <td>0.000809</td>\n",
              "    </tr>\n",
              "    <tr>\n",
              "      <th>736</th>\n",
              "      <td>2007-12-27</td>\n",
              "      <td>15564.69</td>\n",
              "      <td>-1.0</td>\n",
              "      <td>-0.014216</td>\n",
              "    </tr>\n",
              "    <tr>\n",
              "      <th>737</th>\n",
              "      <td>2007-12-28</td>\n",
              "      <td>15307.78</td>\n",
              "      <td>-1.0</td>\n",
              "      <td>0.001436</td>\n",
              "    </tr>\n",
              "  </tbody>\n",
              "</table>\n",
              "<p>738 rows × 4 columns</p>\n",
              "</div>\n",
              "      <button class=\"colab-df-convert\" onclick=\"convertToInteractive('df-3498f520-6ffc-4452-8880-164c4edcc5ff')\"\n",
              "              title=\"Convert this dataframe to an interactive table.\"\n",
              "              style=\"display:none;\">\n",
              "        \n",
              "  <svg xmlns=\"http://www.w3.org/2000/svg\" height=\"24px\"viewBox=\"0 0 24 24\"\n",
              "       width=\"24px\">\n",
              "    <path d=\"M0 0h24v24H0V0z\" fill=\"none\"/>\n",
              "    <path d=\"M18.56 5.44l.94 2.06.94-2.06 2.06-.94-2.06-.94-.94-2.06-.94 2.06-2.06.94zm-11 1L8.5 8.5l.94-2.06 2.06-.94-2.06-.94L8.5 2.5l-.94 2.06-2.06.94zm10 10l.94 2.06.94-2.06 2.06-.94-2.06-.94-.94-2.06-.94 2.06-2.06.94z\"/><path d=\"M17.41 7.96l-1.37-1.37c-.4-.4-.92-.59-1.43-.59-.52 0-1.04.2-1.43.59L10.3 9.45l-7.72 7.72c-.78.78-.78 2.05 0 2.83L4 21.41c.39.39.9.59 1.41.59.51 0 1.02-.2 1.41-.59l7.78-7.78 2.81-2.81c.8-.78.8-2.07 0-2.86zM5.41 20L4 18.59l7.72-7.72 1.47 1.35L5.41 20z\"/>\n",
              "  </svg>\n",
              "      </button>\n",
              "      \n",
              "  <style>\n",
              "    .colab-df-container {\n",
              "      display:flex;\n",
              "      flex-wrap:wrap;\n",
              "      gap: 12px;\n",
              "    }\n",
              "\n",
              "    .colab-df-convert {\n",
              "      background-color: #E8F0FE;\n",
              "      border: none;\n",
              "      border-radius: 50%;\n",
              "      cursor: pointer;\n",
              "      display: none;\n",
              "      fill: #1967D2;\n",
              "      height: 32px;\n",
              "      padding: 0 0 0 0;\n",
              "      width: 32px;\n",
              "    }\n",
              "\n",
              "    .colab-df-convert:hover {\n",
              "      background-color: #E2EBFA;\n",
              "      box-shadow: 0px 1px 2px rgba(60, 64, 67, 0.3), 0px 1px 3px 1px rgba(60, 64, 67, 0.15);\n",
              "      fill: #174EA6;\n",
              "    }\n",
              "\n",
              "    [theme=dark] .colab-df-convert {\n",
              "      background-color: #3B4455;\n",
              "      fill: #D2E3FC;\n",
              "    }\n",
              "\n",
              "    [theme=dark] .colab-df-convert:hover {\n",
              "      background-color: #434B5C;\n",
              "      box-shadow: 0px 1px 3px 1px rgba(0, 0, 0, 0.15);\n",
              "      filter: drop-shadow(0px 1px 2px rgba(0, 0, 0, 0.3));\n",
              "      fill: #FFFFFF;\n",
              "    }\n",
              "  </style>\n",
              "\n",
              "      <script>\n",
              "        const buttonEl =\n",
              "          document.querySelector('#df-3498f520-6ffc-4452-8880-164c4edcc5ff button.colab-df-convert');\n",
              "        buttonEl.style.display =\n",
              "          google.colab.kernel.accessAllowed ? 'block' : 'none';\n",
              "\n",
              "        async function convertToInteractive(key) {\n",
              "          const element = document.querySelector('#df-3498f520-6ffc-4452-8880-164c4edcc5ff');\n",
              "          const dataTable =\n",
              "            await google.colab.kernel.invokeFunction('convertToInteractive',\n",
              "                                                     [key], {});\n",
              "          if (!dataTable) return;\n",
              "\n",
              "          const docLinkHtml = 'Like what you see? Visit the ' +\n",
              "            '<a target=\"_blank\" href=https://colab.research.google.com/notebooks/data_table.ipynb>data table notebook</a>'\n",
              "            + ' to learn more about interactive tables.';\n",
              "          element.innerHTML = '';\n",
              "          dataTable['output_type'] = 'display_data';\n",
              "          await google.colab.output.renderOutput(dataTable, element);\n",
              "          const docLink = document.createElement('div');\n",
              "          docLink.innerHTML = docLinkHtml;\n",
              "          element.appendChild(docLink);\n",
              "        }\n",
              "      </script>\n",
              "    </div>\n",
              "  </div>\n",
              "  "
            ],
            "text/plain": [
              "          Date     Value    g        x1\n",
              "0   2005-01-04  11517.75  1.0 -0.011671\n",
              "1   2005-01-05  11437.52 -1.0 -0.003628\n",
              "2   2005-01-06  11492.26  1.0  0.003506\n",
              "3   2005-01-07  11433.24 -1.0 -0.001431\n",
              "4   2005-01-11  11539.99  1.0 -0.006100\n",
              "..         ...       ...  ...       ...\n",
              "733 2007-12-21     15257  1.0  0.016670\n",
              "734 2007-12-25  15552.59  1.0       NaN\n",
              "735 2007-12-26  15653.54  1.0  0.000809\n",
              "736 2007-12-27  15564.69 -1.0 -0.014216\n",
              "737 2007-12-28  15307.78 -1.0  0.001436\n",
              "\n",
              "[738 rows x 4 columns]"
            ]
          },
          "metadata": {},
          "execution_count": 12
        }
      ]
    },
    {
      "cell_type": "code",
      "source": [
        "file_3 = './ex_daily.txt'"
      ],
      "metadata": {
        "id": "poCz2QarGKoX"
      },
      "execution_count": 13,
      "outputs": []
    },
    {
      "cell_type": "code",
      "source": [
        "df3=read_file(file_3)\n",
        "df3=df3.drop(labels=0,axis=0)\n",
        "df3=df3.reset_index(drop=True) \n",
        "df3[\"Date\"] = pd.to_datetime(df3[\"Date\"])"
      ],
      "metadata": {
        "id": "vpekWIVbK_dz"
      },
      "execution_count": 14,
      "outputs": []
    },
    {
      "cell_type": "code",
      "source": [
        "df3['Value']=df3['Value'].astype('float')\n",
        "df3['Value']=np.log1p(df3['Value'])\n",
        "dif = pd.DataFrame(columns=['dif'],dtype=float)\n",
        "df3 = pd.concat([df3, dif], axis=1)"
      ],
      "metadata": {
        "id": "wWWmFIK_LJRr"
      },
      "execution_count": 15,
      "outputs": []
    },
    {
      "cell_type": "code",
      "source": [
        "for i in range(2,df3.shape[0]):\n",
        "  df3.loc[i,'dif']=df3.iloc[i-1]['Value'] - df3.iloc[i-2]['Value']"
      ],
      "metadata": {
        "id": "W2-ZD0JNMRXK"
      },
      "execution_count": 16,
      "outputs": []
    },
    {
      "cell_type": "code",
      "source": [
        "x2 = pd.DataFrame(columns=['x2'],dtype=float)\n",
        "df1 = pd.concat([df1, x2], axis=1)"
      ],
      "metadata": {
        "id": "v78moPh0MurL"
      },
      "execution_count": 17,
      "outputs": []
    },
    {
      "cell_type": "code",
      "source": [
        "j=0\n",
        "for i in df1[\"Date\"]:\n",
        "  df1[\"x2\"][j]=df3[df3.Date==i][\"dif\"]\n",
        "  j+=1"
      ],
      "metadata": {
        "id": "a2o7Q8DUM4tJ"
      },
      "execution_count": null,
      "outputs": []
    },
    {
      "cell_type": "code",
      "source": [
        "df1.isna().sum()"
      ],
      "metadata": {
        "colab": {
          "base_uri": "https://localhost:8080/"
        },
        "id": "ohjKKOtENUAx",
        "outputId": "45a37612-ffb4-4304-c1a3-d7352ed801eb"
      },
      "execution_count": 19,
      "outputs": [
        {
          "output_type": "execute_result",
          "data": {
            "text/plain": [
              "Date      0\n",
              "Value     0\n",
              "g         0\n",
              "x1       23\n",
              "x2       20\n",
              "dtype: int64"
            ]
          },
          "metadata": {},
          "execution_count": 19
        }
      ]
    },
    {
      "cell_type": "code",
      "source": [
        "data = df1.dropna()\n",
        "data=data.reset_index(drop=True)\n",
        "data=data.drop(['Date', 'Value'], axis=1)\n",
        "data"
      ],
      "metadata": {
        "colab": {
          "base_uri": "https://localhost:8080/",
          "height": 423
        },
        "id": "hbMvXd_TNZHk",
        "outputId": "de38e86c-036a-47f4-943a-1a0375a32104"
      },
      "execution_count": 20,
      "outputs": [
        {
          "output_type": "execute_result",
          "data": {
            "text/html": [
              "\n",
              "  <div id=\"df-c9315edd-0770-42bb-92e9-648bb52d9be5\">\n",
              "    <div class=\"colab-df-container\">\n",
              "      <div>\n",
              "<style scoped>\n",
              "    .dataframe tbody tr th:only-of-type {\n",
              "        vertical-align: middle;\n",
              "    }\n",
              "\n",
              "    .dataframe tbody tr th {\n",
              "        vertical-align: top;\n",
              "    }\n",
              "\n",
              "    .dataframe thead th {\n",
              "        text-align: right;\n",
              "    }\n",
              "</style>\n",
              "<table border=\"1\" class=\"dataframe\">\n",
              "  <thead>\n",
              "    <tr style=\"text-align: right;\">\n",
              "      <th></th>\n",
              "      <th>g</th>\n",
              "      <th>x1</th>\n",
              "      <th>x2</th>\n",
              "    </tr>\n",
              "  </thead>\n",
              "  <tbody>\n",
              "    <tr>\n",
              "      <th>0</th>\n",
              "      <td>1.0</td>\n",
              "      <td>-0.011671</td>\n",
              "      <td>0.001446</td>\n",
              "    </tr>\n",
              "    <tr>\n",
              "      <th>1</th>\n",
              "      <td>-1.0</td>\n",
              "      <td>-0.003628</td>\n",
              "      <td>0.013774</td>\n",
              "    </tr>\n",
              "    <tr>\n",
              "      <th>2</th>\n",
              "      <td>1.0</td>\n",
              "      <td>0.003506</td>\n",
              "      <td>-0.003044</td>\n",
              "    </tr>\n",
              "    <tr>\n",
              "      <th>3</th>\n",
              "      <td>-1.0</td>\n",
              "      <td>-0.001431</td>\n",
              "      <td>0.008728</td>\n",
              "    </tr>\n",
              "    <tr>\n",
              "      <th>4</th>\n",
              "      <td>1.0</td>\n",
              "      <td>-0.006100</td>\n",
              "      <td>-0.005775</td>\n",
              "    </tr>\n",
              "    <tr>\n",
              "      <th>...</th>\n",
              "      <td>...</td>\n",
              "      <td>...</td>\n",
              "      <td>...</td>\n",
              "    </tr>\n",
              "    <tr>\n",
              "      <th>708</th>\n",
              "      <td>1.0</td>\n",
              "      <td>0.004900</td>\n",
              "      <td>0.002362</td>\n",
              "    </tr>\n",
              "    <tr>\n",
              "      <th>709</th>\n",
              "      <td>1.0</td>\n",
              "      <td>0.016670</td>\n",
              "      <td>-0.004115</td>\n",
              "    </tr>\n",
              "    <tr>\n",
              "      <th>710</th>\n",
              "      <td>1.0</td>\n",
              "      <td>0.000809</td>\n",
              "      <td>0.004340</td>\n",
              "    </tr>\n",
              "    <tr>\n",
              "      <th>711</th>\n",
              "      <td>-1.0</td>\n",
              "      <td>-0.014216</td>\n",
              "      <td>-0.003210</td>\n",
              "    </tr>\n",
              "    <tr>\n",
              "      <th>712</th>\n",
              "      <td>-1.0</td>\n",
              "      <td>0.001436</td>\n",
              "      <td>-0.000695</td>\n",
              "    </tr>\n",
              "  </tbody>\n",
              "</table>\n",
              "<p>713 rows × 3 columns</p>\n",
              "</div>\n",
              "      <button class=\"colab-df-convert\" onclick=\"convertToInteractive('df-c9315edd-0770-42bb-92e9-648bb52d9be5')\"\n",
              "              title=\"Convert this dataframe to an interactive table.\"\n",
              "              style=\"display:none;\">\n",
              "        \n",
              "  <svg xmlns=\"http://www.w3.org/2000/svg\" height=\"24px\"viewBox=\"0 0 24 24\"\n",
              "       width=\"24px\">\n",
              "    <path d=\"M0 0h24v24H0V0z\" fill=\"none\"/>\n",
              "    <path d=\"M18.56 5.44l.94 2.06.94-2.06 2.06-.94-2.06-.94-.94-2.06-.94 2.06-2.06.94zm-11 1L8.5 8.5l.94-2.06 2.06-.94-2.06-.94L8.5 2.5l-.94 2.06-2.06.94zm10 10l.94 2.06.94-2.06 2.06-.94-2.06-.94-.94-2.06-.94 2.06-2.06.94z\"/><path d=\"M17.41 7.96l-1.37-1.37c-.4-.4-.92-.59-1.43-.59-.52 0-1.04.2-1.43.59L10.3 9.45l-7.72 7.72c-.78.78-.78 2.05 0 2.83L4 21.41c.39.39.9.59 1.41.59.51 0 1.02-.2 1.41-.59l7.78-7.78 2.81-2.81c.8-.78.8-2.07 0-2.86zM5.41 20L4 18.59l7.72-7.72 1.47 1.35L5.41 20z\"/>\n",
              "  </svg>\n",
              "      </button>\n",
              "      \n",
              "  <style>\n",
              "    .colab-df-container {\n",
              "      display:flex;\n",
              "      flex-wrap:wrap;\n",
              "      gap: 12px;\n",
              "    }\n",
              "\n",
              "    .colab-df-convert {\n",
              "      background-color: #E8F0FE;\n",
              "      border: none;\n",
              "      border-radius: 50%;\n",
              "      cursor: pointer;\n",
              "      display: none;\n",
              "      fill: #1967D2;\n",
              "      height: 32px;\n",
              "      padding: 0 0 0 0;\n",
              "      width: 32px;\n",
              "    }\n",
              "\n",
              "    .colab-df-convert:hover {\n",
              "      background-color: #E2EBFA;\n",
              "      box-shadow: 0px 1px 2px rgba(60, 64, 67, 0.3), 0px 1px 3px 1px rgba(60, 64, 67, 0.15);\n",
              "      fill: #174EA6;\n",
              "    }\n",
              "\n",
              "    [theme=dark] .colab-df-convert {\n",
              "      background-color: #3B4455;\n",
              "      fill: #D2E3FC;\n",
              "    }\n",
              "\n",
              "    [theme=dark] .colab-df-convert:hover {\n",
              "      background-color: #434B5C;\n",
              "      box-shadow: 0px 1px 3px 1px rgba(0, 0, 0, 0.15);\n",
              "      filter: drop-shadow(0px 1px 2px rgba(0, 0, 0, 0.3));\n",
              "      fill: #FFFFFF;\n",
              "    }\n",
              "  </style>\n",
              "\n",
              "      <script>\n",
              "        const buttonEl =\n",
              "          document.querySelector('#df-c9315edd-0770-42bb-92e9-648bb52d9be5 button.colab-df-convert');\n",
              "        buttonEl.style.display =\n",
              "          google.colab.kernel.accessAllowed ? 'block' : 'none';\n",
              "\n",
              "        async function convertToInteractive(key) {\n",
              "          const element = document.querySelector('#df-c9315edd-0770-42bb-92e9-648bb52d9be5');\n",
              "          const dataTable =\n",
              "            await google.colab.kernel.invokeFunction('convertToInteractive',\n",
              "                                                     [key], {});\n",
              "          if (!dataTable) return;\n",
              "\n",
              "          const docLinkHtml = 'Like what you see? Visit the ' +\n",
              "            '<a target=\"_blank\" href=https://colab.research.google.com/notebooks/data_table.ipynb>data table notebook</a>'\n",
              "            + ' to learn more about interactive tables.';\n",
              "          element.innerHTML = '';\n",
              "          dataTable['output_type'] = 'display_data';\n",
              "          await google.colab.output.renderOutput(dataTable, element);\n",
              "          const docLink = document.createElement('div');\n",
              "          docLink.innerHTML = docLinkHtml;\n",
              "          element.appendChild(docLink);\n",
              "        }\n",
              "      </script>\n",
              "    </div>\n",
              "  </div>\n",
              "  "
            ],
            "text/plain": [
              "       g        x1        x2\n",
              "0    1.0 -0.011671  0.001446\n",
              "1   -1.0 -0.003628  0.013774\n",
              "2    1.0  0.003506 -0.003044\n",
              "3   -1.0 -0.001431  0.008728\n",
              "4    1.0 -0.006100 -0.005775\n",
              "..   ...       ...       ...\n",
              "708  1.0  0.004900  0.002362\n",
              "709  1.0  0.016670 -0.004115\n",
              "710  1.0  0.000809  0.004340\n",
              "711 -1.0 -0.014216 -0.003210\n",
              "712 -1.0  0.001436 -0.000695\n",
              "\n",
              "[713 rows x 3 columns]"
            ]
          },
          "metadata": {},
          "execution_count": 20
        }
      ]
    },
    {
      "cell_type": "code",
      "source": [
        "D_train, D_test = np.split(data,[data.shape[0]-60])"
      ],
      "metadata": {
        "id": "VIpy__BpOxS_"
      },
      "execution_count": 21,
      "outputs": []
    },
    {
      "cell_type": "markdown",
      "source": [
        "# Logistic regression"
      ],
      "metadata": {
        "id": "1YEB4CM5P0lP"
      }
    },
    {
      "cell_type": "code",
      "source": [
        "from sklearn.model_selection import train_test_split\n",
        "from sklearn.linear_model import LogisticRegression"
      ],
      "metadata": {
        "id": "HQ4vO81QP5Iq"
      },
      "execution_count": 22,
      "outputs": []
    },
    {
      "cell_type": "code",
      "source": [
        "predictors=['x1','x2']\n",
        "lg = LogisticRegression()  \n",
        "lg.fit(D_train[predictors], D_train['g'])  \n",
        "Y_pre_lg_train = lg.predict(D_train[predictors])\n",
        "Y_pre_lg_test = lg.predict(D_test[predictors])\n",
        "print('Accuracy, Training Set: ', round(np.mean(Y_pre_lg_train == D_train['g'])*100,5), '%')\n",
        "print('Accuracy, Test Set: ', round(np.mean(Y_pre_lg_test == D_test['g'])*100,5), '%')"
      ],
      "metadata": {
        "id": "cmD0bAThQP9G",
        "colab": {
          "base_uri": "https://localhost:8080/"
        },
        "outputId": "60b1b310-b1d6-4f77-852c-3bf79974314e"
      },
      "execution_count": 23,
      "outputs": [
        {
          "output_type": "stream",
          "name": "stdout",
          "text": [
            "Accuracy, Training Set:  53.13936 %\n",
            "Accuracy, Test Set:  43.33333 %\n"
          ]
        }
      ]
    },
    {
      "cell_type": "markdown",
      "source": [
        "# LDA"
      ],
      "metadata": {
        "id": "tcWoXkb8QgRS"
      }
    },
    {
      "cell_type": "code",
      "source": [
        "from sklearn.discriminant_analysis import LinearDiscriminantAnalysis as LDA\n",
        "X_train = D_train[predictors].values   # covert a dataframe to numpy.array\n",
        "X_test = D_test[predictors].values\n",
        "\n",
        "Y_train = D_train['g'].values\n",
        "Y_test = D_test['g'].values\n",
        "\n",
        "lda_clf = LDA()\n",
        "results = lda_clf.fit(X_train, Y_train)\n",
        "\n",
        "train_pred = results.predict(X_train)\n",
        "print(\"Prediction accuracy of train set is:\", sum(train_pred == Y_train)/len(Y_train))\n",
        "\n",
        "# Prediction on the testing dataset\n",
        "testing_pred = results.predict(X_test)\n",
        "print(\"Prediction accuracy of test set is:\", sum(testing_pred == Y_test)/len(Y_test))"
      ],
      "metadata": {
        "colab": {
          "base_uri": "https://localhost:8080/"
        },
        "id": "Rg4p_vD8QhsT",
        "outputId": "3e2dd0a2-60cc-4398-da81-bb773d6c6182"
      },
      "execution_count": 31,
      "outputs": [
        {
          "output_type": "stream",
          "name": "stdout",
          "text": [
            "Prediction accuracy of train set is: 0.5497702909647779\n",
            "Prediction accuracy of test set is: 0.5333333333333333\n"
          ]
        }
      ]
    },
    {
      "cell_type": "markdown",
      "source": [
        "# Classification tree"
      ],
      "metadata": {
        "id": "emOJmeCoRXgp"
      }
    },
    {
      "cell_type": "code",
      "source": [
        "from sklearn.tree import DecisionTreeClassifier\n",
        "from sklearn.model_selection import cross_val_score\n",
        "from sklearn.utils import shuffle"
      ],
      "metadata": {
        "id": "5I4JaC3sQ-tu"
      },
      "execution_count": 33,
      "outputs": []
    },
    {
      "cell_type": "code",
      "source": [
        "N_size = np.shape(D_train)[0]\n",
        "depthList=[1,2,3,4,5,6,7]\n",
        "xvalMSE=[]\n",
        "k=10\n",
        "for iDepth in depthList:\n",
        "  Dot = np.linspace(0, N_size, k + 1)  # split points\n",
        "  Bound = [int(i) for i in Dot]  # the boundary index\n",
        "  Data_Temp = D_train.copy()  \n",
        "\n",
        "  tree_model = DecisionTreeClassifier(max_depth=iDepth)\n",
        "  Va_error = []\n",
        "  for j in range(k):\n",
        "    Va_df = Data_Temp.iloc[Bound[j]:Bound[j + 1], :]\n",
        "    Index_tr = np.arange(0, Bound[j]).tolist() + np.arange(Bound[j + 1], N_size).tolist()\n",
        "    Tr_df = Data_Temp.iloc[Index_tr, :]\n",
        "    X_train_c = Tr_df[predictors].values\n",
        "    Y_train_c = Tr_df['g'].values\n",
        "    X_test_c = Va_df[predictors].values\n",
        "    Y_test_c = Va_df['g'].values\n",
        "    tree_model.fit(X_train_c, Y_train_c)\n",
        "    # Y_pre_tr = lm.predict(Tr_df.loc[:, ['horsepower']])\n",
        "    Y_pre_va = tree_model.predict(X_test_c)\n",
        "    # mse_tr = np.mean((Y_pre_tr - Tr_df['mpg']) ** 2)\n",
        "    mse_va = np.mean((Y_pre_va - Y_test_c) ** 2)\n",
        "    Va_error.append(mse_va)\n",
        "  xvalMSE.append(np.mean(Va_error))"
      ],
      "metadata": {
        "id": "q0S-bijjON52"
      },
      "execution_count": 56,
      "outputs": []
    },
    {
      "cell_type": "code",
      "source": [
        "plt.plot(depthList,xvalMSE)\n",
        "plt.axis('tight')\n",
        "plt.xlabel('Tree Depth')\n",
        "plt.ylabel('MSE')\n",
        "plt.show()"
      ],
      "metadata": {
        "colab": {
          "base_uri": "https://localhost:8080/",
          "height": 279
        },
        "id": "dWvTUAjATSO_",
        "outputId": "406dfebf-199f-40e7-e74d-29f3e3b86e72"
      },
      "execution_count": 57,
      "outputs": [
        {
          "output_type": "display_data",
          "data": {
            "image/png": "[encoded data removed]",
            "text/plain": [
              "<Figure size 432x288 with 1 Axes>"
            ]
          },
          "metadata": {
            "needs_background": "light"
          }
        }
      ]
    },
    {
      "cell_type": "code",
      "source": [
        "idx_max = np.argmin(xvalMSE)\n",
        "sm_best_tree_depth = depthList[idx_max]\n",
        "min_mse = xvalMSE[idx_max]\n",
        "print('The depth-{} tree achieves the min MSE {} on training dataset'.format(\n",
        "      sm_best_tree_depth, round(min_mse,5)))"
      ],
      "metadata": {
        "colab": {
          "base_uri": "https://localhost:8080/"
        },
        "id": "Uh4uvKGPTRSM",
        "outputId": "e474ab85-20f0-41ee-f977-4db4182a35d9"
      },
      "execution_count": 60,
      "outputs": [
        {
          "output_type": "stream",
          "name": "stdout",
          "text": [
            "The depth-1 tree achieves the min MSE 1.77641 on training dataset\n"
          ]
        }
      ]
    },
    {
      "cell_type": "code",
      "source": [
        "def run_single_tree(X_train, y_train, X_test, y_test, depth):\n",
        "    model = DecisionTreeClassifier(max_depth=depth).fit(X_train, y_train)\n",
        "    accuracy_train = model.score(X_train, y_train)\n",
        "    accuracy_test = model.score(X_test, y_test)\n",
        "    print('Single tree depth: ', depth)\n",
        "    print('Accuracy, Training Set: ', round(accuracy_train*100,5), '%')\n",
        "    print('Accuracy, Test Set: ', round(accuracy_test*100,5), '%')\n",
        "    return accuracy_train, accuracy_test"
      ],
      "metadata": {
        "id": "3KI6Fjg9XIbq"
      },
      "execution_count": 61,
      "outputs": []
    },
    {
      "cell_type": "code",
      "source": [
        "sm_best_tree_accuracy_train, sm_best_tree_accuracy_test = run_single_tree(X_train, Y_train,  X_test, Y_test, sm_best_tree_depth)"
      ],
      "metadata": {
        "colab": {
          "base_uri": "https://localhost:8080/"
        },
        "id": "5EEO7Ml_XK8B",
        "outputId": "83f246bb-264b-40ae-efab-e457e5f89dc5"
      },
      "execution_count": 62,
      "outputs": [
        {
          "output_type": "stream",
          "name": "stdout",
          "text": [
            "Single tree depth:  1\n",
            "Accuracy, Training Set:  56.66156 %\n",
            "Accuracy, Test Set:  51.66667 %\n"
          ]
        }
      ]
    },
    {
      "cell_type": "markdown",
      "source": [
        "# SVM with linear kernel "
      ],
      "metadata": {
        "id": "Pv6NyFcmUa4h"
      }
    },
    {
      "cell_type": "code",
      "source": [
        "from sklearn.svm import SVC\n",
        "from sklearn.model_selection import GridSearchCV"
      ],
      "metadata": {
        "id": "kJYk0OLtUcnd"
      },
      "execution_count": 63,
      "outputs": []
    },
    {
      "cell_type": "code",
      "source": [
        "# tuning parameter with 10-fold cross-validation.\n",
        "svc1 = SVC(kernel='linear')\n",
        "# generate tuning parameters\n",
        "c_space = np.array([0.001, 0.01, 0.1, 1, 5, 10, 100])\n",
        "# convert it to dictionary\n",
        "para_grid = {'C': c_space}\n",
        "# tuning process\n",
        "tune = GridSearchCV(svc1, para_grid, cv=10)\n",
        "tune.fit(X_train, Y_train)\n",
        "# get the best parameter\n",
        "print(tune.best_params_)"
      ],
      "metadata": {
        "colab": {
          "base_uri": "https://localhost:8080/"
        },
        "id": "1PMGfCmkVqjy",
        "outputId": "ec1ea989-11c6-4e86-8759-9166655cae76"
      },
      "execution_count": 64,
      "outputs": [
        {
          "output_type": "stream",
          "name": "stdout",
          "text": [
            "{'C': 0.001}\n"
          ]
        }
      ]
    },
    {
      "cell_type": "code",
      "source": [
        "svc0 = SVC(kernel='linear', C=0.001)\n",
        "svc0.fit(X_train, Y_train)\n",
        "y_pred_t = svc0.predict(X_train)\n",
        "y_pred = svc0.predict(X_test)\n",
        "print('best parameter: ', tune.best_params_)\n",
        "print('Accuracy, Training Set: ', round(np.mean(y_pred_t == Y_train)*100,5), '%')\n",
        "print('Accuracy, Test Set: ', round(np.mean(y_pred == Y_test)*100,5), '%')"
      ],
      "metadata": {
        "colab": {
          "base_uri": "https://localhost:8080/"
        },
        "id": "2UFyWNVWV-yx",
        "outputId": "71d1acd5-6c18-4c45-b99c-ec54ba527d85"
      },
      "execution_count": 65,
      "outputs": [
        {
          "output_type": "stream",
          "name": "stdout",
          "text": [
            "best parameter:  {'C': 0.001}\n",
            "Accuracy, Training Set:  53.13936 %\n",
            "Accuracy, Test Set:  43.33333 %\n"
          ]
        }
      ]
    },
    {
      "cell_type": "markdown",
      "source": [
        "# SVM with Radial kernel"
      ],
      "metadata": {
        "id": "mjdiJfw1cVs-"
      }
    },
    {
      "cell_type": "code",
      "source": [
        "svm1 = SVC(kernel='rbf')\n",
        "# generate tuning parameters\n",
        "c_space = np.array([0.1, 1, 10, 100, 1000])\n",
        "g_space = np.array([0.5, 1, 2, 3, 4])\n",
        "# convert them to a dictionary\n",
        "para_grid = {'C': c_space, 'gamma': g_space}\n",
        "# tuning process\n",
        "tune2 = GridSearchCV(svm1, para_grid, cv=10)\n",
        "tune2.fit(X_train, Y_train)\n",
        "# get the best parameter\n",
        "print(tune2.best_params_)"
      ],
      "metadata": {
        "colab": {
          "base_uri": "https://localhost:8080/"
        },
        "id": "OIhEm1sOcT3y",
        "outputId": "a84c16f0-8eab-4b66-d5ed-1adb3b20cf9d"
      },
      "execution_count": 68,
      "outputs": [
        {
          "output_type": "stream",
          "name": "stdout",
          "text": [
            "{'C': 0.1, 'gamma': 0.5}\n"
          ]
        }
      ]
    },
    {
      "cell_type": "code",
      "source": [
        "# create a svm classifier with gaussian kernel\n",
        "svm0 = SVC(kernel='rbf', gamma=0.5, C=0.1)\n",
        "# fit the model using training data\n",
        "svm0.fit(X_train, Y_train)\n",
        "\n",
        "y_pred_t2 = svm0.predict(X_train)\n",
        "y_pred2 = svm0.predict(X_test)\n",
        "print('best parameter: ', tune2.best_params_)\n",
        "print('Accuracy, Training Set: ', round(np.mean(y_pred_t2 == Y_train)*100,5), '%')\n",
        "print('Accuracy, Test Set: ', round(np.mean(y_pred2 == Y_test)*100,5), '%')"
      ],
      "metadata": {
        "colab": {
          "base_uri": "https://localhost:8080/"
        },
        "id": "ngtLhYbKdFIE",
        "outputId": "2c248fba-0f7d-470d-e1e9-3e8a68881e72"
      },
      "execution_count": 70,
      "outputs": [
        {
          "output_type": "stream",
          "name": "stdout",
          "text": [
            "best parameter:  {'C': 0.1, 'gamma': 0.5}\n",
            "Accuracy, Training Set:  53.13936 %\n",
            "Accuracy, Test Set:  43.33333 %\n"
          ]
        }
      ]
    }
  ]
}